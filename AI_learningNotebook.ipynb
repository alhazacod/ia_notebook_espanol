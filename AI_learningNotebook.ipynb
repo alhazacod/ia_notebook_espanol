{
 "cells": [
  {
   "cell_type": "markdown",
   "metadata": {},
   "source": [
    "# Cuaderno de aprendizaje de Inteligencia artificial\n",
    "*Para leer esta guia es necesario ya saber programar en python, y tener bases en matematica y algebra lineal.*\n",
    "\n",
    "*Recuerda ir ejecutando las celdas conforme vayas leyendo esta guia.*"
   ]
  },
  {
   "cell_type": "markdown",
   "metadata": {},
   "source": [
    "## Regresion lineal"
   ]
  },
  {
   "cell_type": "markdown",
   "metadata": {},
   "source": [
    "El corazon de la inteligencia artificial es la regresion linea, el modelo matematico de prediccion mas conocido. Cuando tenemos una cantidad de datos nosotros podemos observar una tendencia y predecir un valor desconocido para nuestros datos.\n",
    " <img src=\"Linear_regression.svg\" alt=\"regression\"> \n",
    "Pues esto tan facil es la base de la inteligencia artificial, en cada neurona artificial se esconde una regresion lineal. Para nosotros esto es algo muy facil de realizar, podemos trazar la linea al ojo, pero para un computador esto es un poco mas complicado, ahora vamos a ver como programar nuestra propia regresion linear en python, y así iniciar nuestro viaje en el mundo de la inteligencia artificial."
   ]
  },
  {
   "cell_type": "markdown",
   "metadata": {},
   "source": [
    "### Predecir precios de casas\n",
    "Acabamos de mudarnos a Boston y estamos buscando una casa para vivir, pero hay demasiados precios y casas muy diferentes, pero siendo expertos en el analisis de datos vamos a utilizar varios datos sobre las viviendas de boston para poder predecir o adivinar los precios de las viviendas segun la cantidad de habitaciones de cada una."
   ]
  },
  {
   "cell_type": "markdown",
   "metadata": {},
   "source": [
    "### Librerias\n",
    "Primero que todo necesitamos una librerias que nos van a permitir trabajar facilmente con las matematicas y los datos.  "
   ]
  },
  {
   "cell_type": "markdown",
   "metadata": {},
   "source": [
    "* ***Numpy:*** Nos permite realizar operaciones con matrices mucho mas facil, así no tendremos que programar los algoritmos para operar matrices desde cero.  "
   ]
  },
  {
   "cell_type": "code",
   "execution_count": 1,
   "metadata": {},
   "outputs": [],
   "source": [
    "import numpy as np"
   ]
  },
  {
   "cell_type": "markdown",
   "metadata": {},
   "source": [
    "* ***Matplotlib:*** Nos permite graficar nuestro datos para poder entenderlos mas facilmente."
   ]
  },
  {
   "cell_type": "code",
   "execution_count": 2,
   "metadata": {},
   "outputs": [],
   "source": [
    "import matplotlib.pyplot as plt"
   ]
  },
  {
   "cell_type": "markdown",
   "metadata": {},
   "source": [
    "* ***Sklearn:*** Es una libreria que contiene muchas herramientas para la programacion de inteligencias artificiales, entre estas herramientas estan muchos sets de datos para practicar. Sklearn ya tiene la herramienta de regresion lineal, pero en este cuaderno vamos a aprender las matematicas de la regresion lineal así que vamos a programarla desde cero, por lo que solo vamos a utilizar el grupo de datos de las casas en boston."
   ]
  },
  {
   "cell_type": "code",
   "execution_count": 3,
   "metadata": {},
   "outputs": [],
   "source": [
    "from sklearn.datasets import load_boston"
   ]
  },
  {
   "cell_type": "markdown",
   "metadata": {},
   "source": [
    "### Set de datos\n",
    "Vamos a descargar el set de datos de las casas en boston desde la libreria de sklearn."
   ]
  },
  {
   "cell_type": "code",
   "execution_count": 4,
   "metadata": {},
   "outputs": [],
   "source": [
    "boston = load_boston()\n",
    "\n",
    "#Puedes ejecutar la siguiente linea para ver la descripcion del dataset.\n",
    "#print(boston.DESCR) "
   ]
  },
  {
   "cell_type": "markdown",
   "metadata": {},
   "source": [
    "### Construccion de nuestra matriz\n",
    "\n",
    "Este dataset contiene muchos datos sobre las viviendas en boston, pero nosotros solamente vamos a utilizar los datos de los precios y la cantidad de habitaciones por vivienda."
   ]
  },
  {
   "cell_type": "markdown",
   "metadata": {},
   "source": [
    "1. En nuestor eje X (o datos de entrada) vamos a colocar la cantidad de habitaciones promedio por vivienda."
   ]
  },
  {
   "cell_type": "code",
   "execution_count": 5,
   "metadata": {},
   "outputs": [],
   "source": [
    "X = boston.data[:,5] \n",
    "#En la descripcion del dataset podemos ver los indices de nuestros datos.\n",
    "#Para ver los indices del dataset revisar la descripcion del dataset: boston.DESCR"
   ]
  },
  {
   "cell_type": "markdown",
   "metadata": {},
   "source": [
    "2. En nuestro eje Y (o datos de salida) vamos a colocar los precios de las viviendas"
   ]
  },
  {
   "cell_type": "code",
   "execution_count": 6,
   "metadata": {},
   "outputs": [],
   "source": [
    "Y = boston.target \n",
    "#En este dataset el precio de las viviendas está en la variable target\n",
    "#Para ver los indices del dataset revisar la descripcion del dataset: boston.DESCR"
   ]
  },
  {
   "cell_type": "markdown",
   "metadata": {},
   "source": [
    "3. La libreria numpy trabaja con arrays para operar, así que para poder utilizar las funciones matematicas de numpy debemos convertir las matrices a arrays."
   ]
  },
  {
   "cell_type": "code",
   "execution_count": 7,
   "metadata": {},
   "outputs": [],
   "source": [
    "X = np.array(X)\n",
    "Y = np.array(Y)"
   ]
  },
  {
   "cell_type": "markdown",
   "metadata": {},
   "source": [
    "Ahora vamos a visualizar nuestra matriz, para esto vamos a utilizar matplotlib."
   ]
  },
  {
   "cell_type": "code",
   "execution_count": 8,
   "metadata": {},
   "outputs": [
    {
     "data": {
      "image/png": "[encoded data removed]",
      "text/plain": [
       "<Figure size 432x288 with 1 Axes>"
      ]
     },
     "metadata": {
      "needs_background": "light"
     },
     "output_type": "display_data"
    }
   ],
   "source": [
    "plt.scatter(X,Y,alpha=.3)\n",
    "plt.show()"
   ]
  },
  {
   "cell_type": "markdown",
   "metadata": {},
   "source": [
    "### Dibujando nuestra linea predictiva\n",
    "Con esta grafica podemos observar que existe una relacion directa entre el numero de habitaciones y el precio, solo con esto podriamos dibujar nuestra linea para predecir los valores.  \n",
    "En matematicas una linea recta puede escribirse como una funcion $y=ax+b$, en esta funcion $a$ representa la pendiente de nuestra linea y $b$ el punto de corte con el eje y, estos 2 valores $a$ y $b$ seran los valores que podemos variar para acercar nuestra linea predictiva al comportamiento de nuestros datos."
   ]
  },
  {
   "cell_type": "markdown",
   "metadata": {},
   "source": [
    "* Vamos a programar nuestra funcion\n",
    "$$y=ax+b$$"
   ]
  },
  {
   "cell_type": "code",
   "execution_count": 9,
   "metadata": {},
   "outputs": [
    {
     "name": "stdout",
     "output_type": "stream",
     "text": [
      "x =  [4 5 6 7 8 9]\n",
      "y =  [-8  5 18 31 44 57]\n"
     ]
    }
   ],
   "source": [
    "a = 13 #Puedes modificar este valor para variar la pendiente\n",
    "b = -60 #Puedes modificar este valor para cambiar el punto de interseccion con Y\n",
    "x = np.array([4,5,6,7,8,9]) #Estos son los valores de prueba\n",
    "\n",
    "modelo = lambda x: (a*x)+b #Esta es la funcion de nuestra recta\n",
    "\n",
    "y = modelo(x)\n",
    "\n",
    "#imprimimos los valores de x y de y\n",
    "print(\"x = \",x)\n",
    "print(\"y = \",y)"
   ]
  },
  {
   "cell_type": "markdown",
   "metadata": {},
   "source": [
    "* Grafiquemos nuestra linea recta sobre nuestros datos"
   ]
  },
  {
   "cell_type": "code",
   "execution_count": 10,
   "metadata": {},
   "outputs": [
    {
     "data": {
      "image/png": "[encoded data removed]",
      "text/plain": [
       "<Figure size 432x288 with 1 Axes>"
      ]
     },
     "metadata": {
      "needs_background": "light"
     },
     "output_type": "display_data"
    }
   ],
   "source": [
    "plt.scatter(X,Y,alpha=.3)  # Datos.\n",
    "plt.plot(x,y,color = \"red\")# Linea recta.\n",
    "plt.show()"
   ]
  },
  {
   "cell_type": "markdown",
   "metadata": {},
   "source": [
    "Ahora si queremos encontrar el valor aproximado del valor que deseamos solo debemos ingresarlo en nuestro modelo matematico.\n",
    "\n",
    "Vamos a aproximar el valor de una casa de 10 habitaciones utilizando nuestro modelo matematico."
   ]
  },
  {
   "cell_type": "code",
   "execution_count": 11,
   "metadata": {},
   "outputs": [
    {
     "name": "stdout",
     "output_type": "stream",
     "text": [
      "70K dolares\n"
     ]
    }
   ],
   "source": [
    "prediccion = modelo(10)\n",
    "\n",
    "print(str(prediccion) + \"K dolares\")"
   ]
  },
  {
   "cell_type": "markdown",
   "metadata": {},
   "source": [
    "Así de facil tendriamos nuestra funcion o modelo matematico para predecir el precio aproximado de una vivienda segun la cantidad de habitaciones, pero hay un problema y es que los valores de $a$ y $b$ los ajustamos manualmente para que fuera lo mas parecido a nuestros datos, pero imaginense tener que hacer esto con millones de datos y cientos de valores de entrada, seria imposible, nosotros lo que queremos es que esto se haga automaticamente, por lo que vamos a programar un algoritmo que ajuste los valores de *a* y *b* obteniento el menor grado de error en nuestro modelo."
   ]
  },
  {
   "cell_type": "markdown",
   "metadata": {},
   "source": [
    "## Minimos cuadrados ordinarios\n",
    "Para encontrar el grado de error de un modelo con respecto a los datos tenemos un metodo llamado error cuadratico, esta es la suma del cuadrado de todos los errores.  \n",
    "El error de un dato con respecto a nuestro modelo es el valor predicho menos el valor real.\n",
    "\n",
    "$$\n",
    "    \\text{Modelo:}\\\\\n",
    "    y=w_1 +w_2 x\\\\\n",
    "    \\text{El error:}\\\\\n",
    "    e = (w_1 + w_2 x) - y_r\n",
    "$$\n",
    "\n",
    "Este seria solo el error de un punto, pero nosotros necesitamos la suma de todos los errores elevados al cuadrado (se eleva al cuadrado para que los puntos mas alejados tengan mas \"peso\" que los mas cercanos).\n",
    "$$\n",
    "    \\sum_{i=1}^{n}error^2 = \\sum_{i=1}^{n}((w_1+w_2 x_{i})-y_{r_i})^2\n",
    "$$\n",
    "Esta seria nuestra ecuacion del error, para obtener nuestro $w_1$ y $w_2$ tendriamos que optimizar nuestro esto, si recuerdan en calculo para saber el valor que optimiza nuestra funcion tenemos que derivar e igualar a 0, pues esto mismo es lo que necesitamos hacer en nuestro error cuadratico.\n",
    "\n",
    "Para entender todo esto es mejor hacer un ejemplo.\n",
    "\n",
    "Nuestros datos seran:\n",
    "$$\n",
    "    X = \\begin{bmatrix}\n",
    "        1\\\\\n",
    "        2\\\\\n",
    "        4\\\\\n",
    "        5\\\\\n",
    "        7\n",
    "        \\end{bmatrix}\\text{ , }\\ \\ \n",
    "    Y_r = \\begin{bmatrix}\n",
    "        2\\\\\n",
    "        3\\\\\n",
    "        7\\\\\n",
    "        5\\\\\n",
    "        11\n",
    "        \\end{bmatrix}\n",
    "$$\n",
    "\n",
    "Error cuadratico:\n",
    "\n",
    "$$\n",
    "    e = (w_1+w_2 1-2)^2 +(w_1+w_2 2-3)^2+(w_1+w_2 4-7)^2+(w_1+w_2 5-5)^2+(w_1+w_2 7-11)^2\\\\ \\ \n",
    "$$\n",
    "\n",
    "\n",
    "Ahora debemos derivar e igualar a 0:\n",
    "\n",
    "$$\n",
    "    \\frac{\\mathrm{d} e}{\\mathrm{d} w_1} = 0 \\\\ \\ \\\\\n",
    "    2(1)(w_1+w_2 1-2)+2(1)(w_1+w_2 2-3)+2(1)(w_1+w_2 4-7)+2(1)(w_1+w_2 5-5)+2(1)(w_1+w_2 7-11)=0\\\\ \\  \\\\\n",
    "    (w_1+w_2 1-2)+(w_1+w_2 2-3)+(w_1+w_2 4-7)+(w_1+w_2 5-5)+(w_1+w_2 7-11)=0\\\\ \\  \\\\\n",
    "    5w_1+19w_2=28\\\\ \\ \\\\ \\ \\\\\n",
    "    \\frac{\\mathrm{d} e}{\\mathrm{d} w_2} = 0 \\\\ \\ \\\\\n",
    "    2(1)(w_1+w_2 1-2)+2(2)(w_1+w_2 2-3)+2(4)(w_1+w_2 4-7)+2(5)(w_1+w_2 5-5)+2(7)(w_1+w_2 7-11)=0\\\\ \\  \\\\\n",
    "    2(w_1+w_2 1-2)+2(w_1+w_2 2-3)+2(w_1+w_2 4-7)+2(w_1+w_2 5-5)+2(w_1+w_2 7-11)=0\\\\ \\  \\\\\n",
    "    19w_1+95w_2=138\\\\ \\ \\\\ \\ \\\\\n",
    "    5w_1+19w_2=28\\\\\n",
    "    19w_1+95w_2=138\\\\ \\ \n",
    "$$\n",
    "\n",
    "Con este sistema de ecuaciones ya podemos obtener los valores para $w_1$ y $w_2$ donde el error sea el minimo.\n",
    "\n",
    "$$\n",
    "    5w_1+19w_2=28\\\\\n",
    "    w_1=\\frac{28-19w_2}{5}\\\\ \\ \\\\ \\ \\\\\n",
    "    19\\left( \\frac{28-19w_2}{5}\\right) +95w_2= 138\\\\\n",
    "    \\frac{532-361w_2}{5} +95w_2= 138\\\\\n",
    "    \\frac{532-361w_2+475w_2}{5}=138\\\\\n",
    "    532+114w_2=690\\\\\n",
    "    w_2=\\frac{79}{57}\\\\ \\ \\\\ \\ \\\\\n",
    "    w_1=\\frac{28-19\\left( \\frac{79}{57}\\right) }{5}\\\\\n",
    "    w_1=\\frac{1}{3}\\\\ \\ \\\\ \\ \\\\ \\ \n",
    "    \\large{\n",
    "    w_2=\\frac{79}{57}\\\\\n",
    "    w_1=\\frac{1}{3}\\\\\n",
    "    }\n",
    "$$"
   ]
  },
  {
   "cell_type": "markdown",
   "metadata": {},
   "source": [
    "Ahora que tenemos los valores de $w_1$ y $w_2$ ya podemos crear nuestro modelo, así que vamos a crearlo y graficarlo."
   ]
  },
  {
   "cell_type": "markdown",
   "metadata": {},
   "source": [
    "* Datos:\n",
    "$$\n",
    "    X = \\begin{bmatrix}\n",
    "        1\\\\\n",
    "        2\\\\\n",
    "        4\\\\\n",
    "        5\\\\\n",
    "        7\n",
    "        \\end{bmatrix}\\text{ , }\\ \\ \n",
    "    Y_r = \\begin{bmatrix}\n",
    "        2\\\\\n",
    "        3\\\\\n",
    "        7\\\\\n",
    "        5\\\\\n",
    "        11\n",
    "        \\end{bmatrix}\n",
    "$$"
   ]
  },
  {
   "cell_type": "code",
   "execution_count": 12,
   "metadata": {},
   "outputs": [
    {
     "data": {
      "image/png": "[encoded data removed]",
      "text/plain": [
       "<Figure size 432x288 with 1 Axes>"
      ]
     },
     "metadata": {
      "needs_background": "light"
     },
     "output_type": "display_data"
    }
   ],
   "source": [
    "X = np.array([1,2,4,5,7])\n",
    "Y = np.array([2,3,7,5,11])\n",
    "\n",
    "plt.scatter(X,Y,s=100)\n",
    "plt.grid()\n",
    "plt.show()"
   ]
  },
  {
   "cell_type": "markdown",
   "metadata": {},
   "source": [
    "* Modelo:\n",
    "$$\n",
    "    \\large{y=w_1 +w_2 x}\\\\ \\ \\\\\n",
    "    w_1=\\frac{1}{3},\\ \n",
    "    w_2=\\frac{79}{57}\n",
    "$$"
   ]
  },
  {
   "cell_type": "code",
   "execution_count": 13,
   "metadata": {},
   "outputs": [
    {
     "data": {
      "image/png": "[encoded data removed]",
      "text/plain": [
       "<Figure size 432x288 with 1 Axes>"
      ]
     },
     "metadata": {
      "needs_background": "light"
     },
     "output_type": "display_data"
    }
   ],
   "source": [
    "w1 = 1/3\n",
    "w2 = 79/57\n",
    "modelo = lambda x : w1+(w2*x)\n",
    "prediccion = modelo(X)\n",
    "\n",
    "plt.plot(X,prediccion,color = \"red\",linewidth = 3)\n",
    "plt.scatter(X,Y, s = 100)\n",
    "plt.grid()\n",
    "plt.show()"
   ]
  },
  {
   "cell_type": "markdown",
   "metadata": {},
   "source": [
    "### Minimos cuadrados ordinarios vectoriales\n",
    "Normalmente nunca trabajamos con tan pocos datos y tan pocas dimensiones, normalmente tenemos miles o millones de datos y decenas o cientos de dimensiones, para trabajar con todo esto tenemos el calculo vectorial. Lo primero que necesitamos saber es saber escribir todo lo que hicimos anteriormente como una ecuacion vectorial.\n",
    "\n",
    "Nuestras ecuaciones se verial algo así:\n",
    "$$\n",
    "    y_1=w_0+w_1x_{1,1}+w_2x_{1,2}+w_3x_{1,3}+\\dots+w_mx_{1,m} \\\\\n",
    "    y_2=w_0+w_1x_{2,1}+w_2x_{2,2}+w_3x_{2,3}+\\dots+w_mx_{2,m} \\\\\n",
    "    y_3=w_0+w_1x_{3,1}+w_2x_{3,2}+w_3x_{3,3}+\\dots+w_mx_{3,m} \\\\\n",
    "    \\vdots \\\\\n",
    "    y_n=w_0+w_1x_{n,1}+w_2x_{n,2}+w_3x_{n,3}+\\dots+w_mx_{n,m}\n",
    "$$\n",
    "\n",
    "Estos sistemas de ecuaciones podemos escribirlos como matrices:\n",
    "$$\n",
    "    Y=\\begin{bmatrix}\n",
    "      y_1\\\\\n",
    "      y_2\\\\\n",
    "      y_3\\\\\n",
    "      \\vdots \\\\\n",
    "      y_n\n",
    "      \\end{bmatrix} \\\\ \\ \\\\ \\ \\\\\n",
    "    X=\\begin{bmatrix}\n",
    "      1 && x_{1,1} && x_{1,2} && x_{1,3} && \\cdots && x_{1,m}\\\\\n",
    "      1 && x_{2,1} && x_{2,2} && x_{2,3} && \\cdots && x_{2,m}\\\\\n",
    "      1 && x_{3,1} && x_{3,2} && x_{3,3} && \\cdots && x_{3,m}\\\\\n",
    "      \\vdots && \\vdots && \\vdots && \\vdots && \\ddots && \\vdots \\\\\n",
    "      1 && x_{n,1} && x_{n,2} && x_{n,3} && \\cdots && x_{n,m}\n",
    "      \\end{bmatrix} \\\\ \\ \\\\ \\ \\\\\n",
    "    W=\\begin{bmatrix}\n",
    "      w_0 && w_1 && w_1 && w_1 && \\cdots && w_m\n",
    "      \\end{bmatrix}\n",
    "$$\n",
    "\n",
    "Notemos que a la matriz $X$ le agregamos una columna de unos, esto es por el termino independiente en nuestro sistema de ecuaciones, sin esta columna de unos no podriamos obtener el termino independiente.\n",
    "\n",
    "Nuestra ecuacion matricial quedaria de esta manera:\n",
    "\n",
    "$$\n",
    "    \\large{Y=WX}\n",
    "$$\n",
    "\n",
    "Y de igual manera a como lo hicimos anteriormente debemos derivar y despejar W. El vector que minimiza $ \\left\\Vert WX-Y \\right\\Vert^2 $ es $ X^TXW=X^TY $. \n",
    "\n",
    "$$\n",
    "    X^TXW=X^TY \\\\ \\ \\\\ \\ \n",
    "    \\large{W=(X^TX)^{-1}X^TY}\n",
    "$$\n",
    "\n",
    "> Para obtener mas informacion sobre como interpretar este resultado por favor ir a https://en.wikipedia.org/wiki/Ordinary_least_squares#Projection\n",
    "\n",
    "Esto es algo que ya podriamos programar, para obtener los valores de $W$ automaticamente y no tener que ajustar estos valores a mano. Así que volvamos al ejemplo anterior pero esta vez utilicemos este nuevo metodo para que los valores se ajusten automaticamente."
   ]
  },
  {
   "cell_type": "markdown",
   "metadata": {},
   "source": [
    "* Datos:\n",
    "$$\n",
    "    X = \\begin{bmatrix}\n",
    "        1 & 1\\\\\n",
    "        1 & 2\\\\\n",
    "        1 & 4\\\\\n",
    "        1 & 5\\\\\n",
    "        1 & 7\n",
    "        \\end{bmatrix}\\text{ , }\\ \\ \n",
    "    Y_r = \\begin{bmatrix}\n",
    "        2\\\\\n",
    "        3\\\\\n",
    "        7\\\\\n",
    "        5\\\\\n",
    "        11\n",
    "        \\end{bmatrix}\n",
    "$$"
   ]
  },
  {
   "cell_type": "code",
   "execution_count": 14,
   "metadata": {},
   "outputs": [
    {
     "data": {
      "image/png": "[encoded data removed]",
      "text/plain": [
       "<Figure size 432x288 with 1 Axes>"
      ]
     },
     "metadata": {
      "needs_background": "light"
     },
     "output_type": "display_data"
    },
    {
     "name": "stdout",
     "output_type": "stream",
     "text": [
      "X = \n",
      "[1 2 4 5 7]\n",
      "Y = \n",
      "[ 2  3  7  5 11]\n"
     ]
    }
   ],
   "source": [
    "X = np.array([1,2,4,5,7])\n",
    "Y = np.array([2,3,7,5,11])\n",
    "\n",
    "plt.scatter(X,Y,s=100)\n",
    "plt.grid()\n",
    "plt.show()\n",
    "\n",
    "print(\"X = \")\n",
    "print(X)\n",
    "print(\"Y = \")\n",
    "print(Y)"
   ]
  },
  {
   "cell_type": "markdown",
   "metadata": {},
   "source": [
    "* Modelo:\n",
    "$$\n",
    "    \\large{y=w_1 +w_2 x}\\\\ \\ \\\\\n",
    "$$\n",
    "* Minimos cuadrados ordinarios:\n",
    "$$\n",
    "    W=(X^TX)^{-1}X^TY\\\\ \\ \\\\\n",
    "    \\begin{bmatrix}\n",
    "    \\large{w_0} \\\\\n",
    "    \\large{w_1}\n",
    "    \\end{bmatrix}\n",
    "    =\n",
    "    \\left(\n",
    "    \\ \\ \\ \n",
    "    \\begin{bmatrix}\n",
    "    1&1&1&1&1\\\\\n",
    "    1&\n",
    "    2&\n",
    "    4&\n",
    "    5&\n",
    "    7\n",
    "    \\end{bmatrix}\n",
    "    \\ \\ \\ \n",
    "    \\begin{bmatrix}\n",
    "    1&1\\\\\n",
    "    1&2\\\\\n",
    "    1&4\\\\\n",
    "    1&5\\\\\n",
    "    1&7\n",
    "    \\end{bmatrix}\n",
    "    \\ \\ \\ \n",
    "    \\right)^{\\large{-1}}\\ \\begin{bmatrix}\n",
    "    1&1&1&1&1\\\\\n",
    "    1&\n",
    "    2&\n",
    "    4&\n",
    "    5&\n",
    "    7\n",
    "    \\end{bmatrix}\\ \\begin{bmatrix}\n",
    "        2\\\\\n",
    "        3\\\\\n",
    "        7\\\\\n",
    "        5\\\\\n",
    "        11\n",
    "        \\end{bmatrix}\n",
    "$$\n",
    "\n",
    "(Recuerda que debemos agregar una columna de unos a nuestra matriz $X$)"
   ]
  },
  {
   "cell_type": "code",
   "execution_count": 15,
   "metadata": {},
   "outputs": [],
   "source": [
    "#Agregamos unacolumna de unos a nuestras X y transponemos nuestras matrices\n",
    "#solo para poder trabajarla de la misma manera que lo hacemos en la ecuacion\n",
    "#matricial.\n",
    "X_ = np.array([np.ones(X.size),X]).T\n",
    "Y_ = Y.T"
   ]
  },
  {
   "cell_type": "markdown",
   "metadata": {},
   "source": [
    "$$W=(X^TX)^{-1}X^TY$$"
   ]
  },
  {
   "cell_type": "code",
   "execution_count": 16,
   "metadata": {},
   "outputs": [
    {
     "name": "stdout",
     "output_type": "stream",
     "text": [
      "w_0 =  0.33333333333333615\n",
      "w_1 =  1.3859649122807016\n"
     ]
    }
   ],
   "source": [
    "#El signo @ se utiliza para el producto punto entre dos matrices\n",
    "W = np.linalg.inv(np.transpose(X_) @ X_) @ np.transpose(X_) @ Y_\n",
    "\n",
    "w_0 = W[0]\n",
    "w_1 = W[1]\n",
    "\n",
    "print(\"w_0 = \",w_0)\n",
    "print(\"w_1 = \",w_1)"
   ]
  },
  {
   "cell_type": "markdown",
   "metadata": {},
   "source": [
    "* Ya teniendo nuestros valores para $w_1$ y $w_2$ podemos escribir nuestro modelo\n",
    "$$y=w_0+w_1x$$"
   ]
  },
  {
   "cell_type": "code",
   "execution_count": 17,
   "metadata": {},
   "outputs": [
    {
     "data": {
      "image/png": "[encoded data removed]",
      "text/plain": [
       "<Figure size 432x288 with 1 Axes>"
      ]
     },
     "metadata": {
      "needs_background": "light"
     },
     "output_type": "display_data"
    }
   ],
   "source": [
    "#Nuestro modelo matematico\n",
    "modelo = lambda x : w_0+(w_1*x)\n",
    "\n",
    "#Graficamos\n",
    "plt.scatter(X,Y, s=100)\n",
    "plt.plot(X,modelo(X), color=\"red\", linewidth = 3)\n",
    "plt.grid()\n",
    "plt.show()"
   ]
  },
  {
   "cell_type": "markdown",
   "metadata": {},
   "source": [
    "Con esto habriamos finalizado nuestra regresion lineal utilizando el metodo de los minimos cuadrados ordinarios. Ahora podriamos incluso utilizar cualquier otro grupo de datos para resolver otros problemas, vamos a aplicar este mismo modelo en un problema mas real, ¿recuerdan el ejemplo de las casas de boston? pues vamos a resolverlo utilizando nuestro nuevo metodo."
   ]
  },
  {
   "cell_type": "markdown",
   "metadata": {},
   "source": [
    "* Traigamos nuestro datos:"
   ]
  },
  {
   "cell_type": "code",
   "execution_count": 18,
   "metadata": {},
   "outputs": [],
   "source": [
    "boston = load_boston()\n",
    "X = np.array(boston.data[:,5])\n",
    "Y = np.array(boston.target)\n",
    "#Recuerda que debemos convertirlos en un array para poder operarlos matematicamente,\n",
    "#tambien debemos transponerlas solo para que queden igual a como las respresentamos\n",
    "#anteriormente\n",
    "X_ = np.array([np.ones(X.size),X]).T\n",
    "Y_ = Y.T"
   ]
  },
  {
   "cell_type": "markdown",
   "metadata": {},
   "source": [
    "* Obtengamos los valores para $w_0$ y $w_1$:"
   ]
  },
  {
   "cell_type": "code",
   "execution_count": 19,
   "metadata": {},
   "outputs": [
    {
     "name": "stdout",
     "output_type": "stream",
     "text": [
      "w_0 =  -34.670620776437374\n",
      "w_1 =  9.102108981180091\n"
     ]
    }
   ],
   "source": [
    "W = np.linalg.inv(np.transpose(X_) @ X_) @ np.transpose(X_) @ Y_\n",
    "\n",
    "w_0 = W[0]\n",
    "w_1 = W[1]\n",
    "\n",
    "print(\"w_0 = \",w_0)\n",
    "print(\"w_1 = \",w_1)"
   ]
  },
  {
   "cell_type": "markdown",
   "metadata": {},
   "source": [
    "* Modelo matematico:"
   ]
  },
  {
   "cell_type": "code",
   "execution_count": 20,
   "metadata": {},
   "outputs": [
    {
     "data": {
      "image/png": "[encoded data removed]",
      "text/plain": [
       "<Figure size 432x288 with 1 Axes>"
      ]
     },
     "metadata": {
      "needs_background": "light"
     },
     "output_type": "display_data"
    }
   ],
   "source": [
    "#Nuestro modelo matematico\n",
    "modelo = lambda x : w_0+(w_1*x)\n",
    "\n",
    "#Graficamos\n",
    "plt.scatter(X,Y, s=50, alpha = 0.5)\n",
    "plt.plot(X,modelo(X), color=\"red\", linewidth = 3)\n",
    "plt.grid()\n",
    "plt.show()"
   ]
  },
  {
   "cell_type": "markdown",
   "metadata": {},
   "source": [
    "## Descenso del gradiente\n",
    "\n",
    "Para una pequeña cantidad de datos el metodo de minimos cuadrados ordinarios nos puede servir bastante bien, pero nosotros normalmente no vamos a trabajar con pocos datos, si no con millones de datos, y esto hace que los minimos cuadrados ordinarios sean basicamente inservibles en el mundo real, esto sucede porque a los ordenadores les lleva demasiado tiempo resolver una matriz invertida. Por eso es que para inteligencia artificial usamos el algoritmo del descenso del gradiente.\n",
    "\n",
    "### ¿Como funciona?\n",
    "\n",
    "En el descenso del gradiente lo que hacemos es empezar desde un punto al azar dentro de nuestra funcion de coste, en ese punto calculamos las derivadas parciales para saber hacia donde deciende nuestra funcion de coste, para asi bajar por la funcion hasta llegar a un minimo, y es ahí donde nuestro error seria el minimo.\n",
    "> ***Funcion de coste***: Es la funcion que calcula el error de nuestra funcion, para esta guia vamos a utilizar el minimo cuadrado ordinario, pero ten en cuenta que hay muchas otras funciones de coste, como puede ser la funcion *Cross-entropy* una de las mas utilizadas en IA, pero por motivos practicos vamos a estar utilizando la funcion de minimos cuadrados ordinarios.\n",
    "\n",
    "<img src=\"gradient-decent.gif\" alt=\"regression\">"
   ]
  },
  {
   "cell_type": "markdown",
   "metadata": {},
   "source": [
    "### Vamos a implementar el descenso del gradiente en la regresion lineal\n",
    "1. Recordemos nuestra funcion de coste (Minimos cuadrados ordinarios):\n",
    "$$\n",
    "\\frac{1}{n}\\sum_{i=1}^{n}((w_0+w_1 x_{i})-y_{r_i})^2\n",
    "$$\n",
    "2. Lo primero que necesitamos es obtener las derivadas parciales de nuestra funcion de coste:\n",
    "\n",
    "$$\n",
    "\\frac{\\partial e}{\\partial w_0} = \\frac{1}{n}\\sum_{i=1}^{n}2((w_0+w_1 x_{i})-y_{r_i})(x_i)\\\\\n",
    "\\frac{\\partial e}{\\partial w_0} = \\frac{2}{n}\\sum_{i=1}^{n}x_i((w_0+w_1 x_{i})-y_{r_i})\\\\ \\ \\\\ \\ \\\\\n",
    "\\frac{\\partial e}{\\partial w_1} = \\frac{1}{n}\\sum_{i=1}^{n}2((w_0+w_1 x_{i})-y_{r_i})\\\\\n",
    "\\frac{\\partial e}{\\partial w_1} = \\frac{2}{n}\\sum_{i=1}^{n}((w_0+w_1 x_{i})-y_{r_i})\n",
    "$$\n",
    "3. Nuestros valores de $w_0$ y $w_1$ se van a calcular de esta manera (Recuerda que el valor inicial de $w_0$ y $w_1$ se asignan aleatoriamente):\n",
    "\n",
    "$$\n",
    "w_0 = w_0 - l\\frac{\\partial e}{\\partial w_0}\\\\ \\ \\\\ \n",
    "w_1 = w_1 -l\\frac{\\partial e}{\\partial w_1}\\\\ \\ \\\\\n",
    "l = \\text{Learning rate}\n",
    "$$\n",
    "> ***Learning rate***: Este termino significa \"tasa de aprendizaje\" y es un valor por el cual multiplicamos nuestro gradiente para controlar el tamaño de los \"pasos\" que da nuestro algoritmo en cada iteracion o epoca.\n",
    "\n",
    "Ahora vamos a escribir nuestro algoritmo.\n",
    "\n",
    "* Datos de entrenamiento:\n",
    "$$\n",
    "    X = \\begin{bmatrix}\n",
    "        1\\\\\n",
    "        2\\\\\n",
    "        4\\\\\n",
    "        5\\\\\n",
    "        7\n",
    "        \\end{bmatrix}\\text{ , }\\ \\ \n",
    "    Y_r = \\begin{bmatrix}\n",
    "        2\\\\\n",
    "        3\\\\\n",
    "        7\\\\\n",
    "        5\\\\\n",
    "        11\n",
    "        \\end{bmatrix}\n",
    "$$"
   ]
  },
  {
   "cell_type": "code",
   "execution_count": 255,
   "metadata": {},
   "outputs": [
    {
     "data": {
      "image/png": "[encoded data removed]",
      "text/plain": [
       "<Figure size 432x288 with 1 Axes>"
      ]
     },
     "metadata": {
      "needs_background": "light"
     },
     "output_type": "display_data"
    },
    {
     "name": "stdout",
     "output_type": "stream",
     "text": [
      "X = \n",
      "[1 2 4 5 7]\n",
      "Y = \n",
      "[ 2  3  7  5 11]\n"
     ]
    }
   ],
   "source": [
    "X = np.array([1,2,4,5,7])\n",
    "Y = np.array([2,3,7,5,11])\n",
    "\n",
    "plt.scatter(X,Y,s=100)\n",
    "plt.grid()\n",
    "plt.show()\n",
    "\n",
    "print(\"X = \")\n",
    "print(X)\n",
    "print(\"Y = \")\n",
    "print(Y)"
   ]
  },
  {
   "cell_type": "markdown",
   "metadata": {},
   "source": [
    "* Construyamos el modelo:\n",
    "\n",
    "$$\n",
    "\\large{y=w_1 +w_2 x}\\\\ \\ \\\\\n",
    "\\frac{\\partial e}{\\partial w_0} = \\frac{2}{n}\\sum_{i=1}^{n}x_i((w_0+w_1 x_{i})-y_{r_i})\\\\ \\ \\\\\n",
    "\\frac{\\partial e}{\\partial w_1} = \\frac{2}{n}\\sum_{i=1}^{n}((w_0+w_1 x_{i})-y_{r_i})\\\\ \\ \\\\\n",
    "w_0 = w_0 - l\\frac{\\partial e}{\\partial w_0}\\\\ \\ \\\\ \n",
    "w_1 = w_1 -l\\frac{\\partial e}{\\partial w_1}\\\\ \\ \\\\\n",
    "$$"
   ]
  },
  {
   "cell_type": "code",
   "execution_count": 308,
   "metadata": {},
   "outputs": [
    {
     "name": "stdout",
     "output_type": "stream",
     "text": [
      "w_0 =  -0.3565665758539371\n",
      "w_1 =  1.5516634569000751\n"
     ]
    },
    {
     "data": {
      "image/png": "[encoded data removed]",
      "text/plain": [
       "<Figure size 432x288 with 1 Axes>"
      ]
     },
     "metadata": {
      "needs_background": "light"
     },
     "output_type": "display_data"
    }
   ],
   "source": [
    "# Valores iniciales\n",
    "w_0 = 2\n",
    "w_1 = 2\n",
    "\n",
    "l = 0.0001 #Learning rate\n",
    "epochs = 3000 #Epocas, es la cantidad de iteraciones de nuestro descenso del gradiente\n",
    "\n",
    "#Vamos a guardar el valor del error en cada iteracion para luego graficarlo\n",
    "error = np.linspace(0,0,epochs)\n",
    "\n",
    "#Descenso del gradiente\n",
    "#Esto se le llama entrenamiento\n",
    "for i in range(epochs):\n",
    "    #La prediccion con los valores actuales de w_0 y w_1\n",
    "    Y_pred = w_0 + (w_1*X) \n",
    "    #Derivadas parciales\n",
    "    dw_0 = (2/X.size) * sum(X * (Y_pred-Y))\n",
    "    dw_1 = (2/X.size) * sum(Y_pred-Y)\n",
    "    #Nuevos valores para w_0 y w_1\n",
    "    w_0 = w_0 - (l*dw_0)\n",
    "    w_1 = w_1 - (l*dw_1)\n",
    "    #Guardamos el error de esta epoca\n",
    "    error[i] = sum((Y_pred-Y)**2)/X.size\n",
    "    \n",
    "print(\"w_0 = \",w_0)\n",
    "print(\"w_1 = \",w_1)\n",
    "\n",
    "plt.plot(range(epochs), error, color='red')\n",
    "plt.xlabel(\"Epoca\")\n",
    "plt.ylabel(\"Error\")\n",
    "plt.show()"
   ]
  },
  {
   "cell_type": "markdown",
   "metadata": {},
   "source": [
    "* Realizamos las predicciones con nuestros datos de entrenamiento y graficamos:"
   ]
  },
  {
   "cell_type": "code",
   "execution_count": 309,
   "metadata": {},
   "outputs": [
    {
     "data": {
      "image/png": "[encoded data removed]",
      "text/plain": [
       "<Figure size 432x288 with 1 Axes>"
      ]
     },
     "metadata": {
      "needs_background": "light"
     },
     "output_type": "display_data"
    },
    {
     "name": "stdout",
     "output_type": "stream",
     "text": [
      "error =  1.6095306624443584\n"
     ]
    }
   ],
   "source": [
    "#Realizamos las predicciones con nuestros datos de entrenamiento\n",
    "Y_pred = w_1*X + w_0\n",
    "\n",
    "#Graficamos\n",
    "plt.scatter(X, Y) \n",
    "plt.plot(X, Y_pred, color='red')\n",
    "plt.show()\n",
    "\n",
    "#Calculamos cuanto es nuestro error cuadratico\n",
    "print(\"error = \",sum((Y_pred-Y)**2)/X.size)"
   ]
  },
  {
   "cell_type": "markdown",
   "metadata": {},
   "source": [
    "En el descenso del gradiente es muy importante los valores iniciales de $w_0$, $w_1$ y $l$ ya que podemos caer en diferentes minimos locales, con la practica podemos aprender a elegir estos valores.\n",
    "<img src=\"gradient-descent-multiple-minimuns.png\">"
   ]
  },
  {
   "cell_type": "code",
   "execution_count": null,
   "metadata": {},
   "outputs": [],
   "source": []
  }
 ],
 "metadata": {
  "kernelspec": {
   "display_name": "Python 3",
   "language": "python",
   "name": "python3"
  },
  "language_info": {
   "codemirror_mode": {
    "name": "ipython",
    "version": 3
   },
   "file_extension": ".py",
   "mimetype": "text/x-python",
   "name": "python",
   "nbconvert_exporter": "python",
   "pygments_lexer": "ipython3",
   "version": "3.6.9"
  }
 },
 "nbformat": 4,
 "nbformat_minor": 2
}
